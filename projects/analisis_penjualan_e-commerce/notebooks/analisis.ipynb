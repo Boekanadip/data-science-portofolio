# Analisis Penjualan E-Commerce

import pandas as pd
import matplotlib.pyplot as plt
import seaborn as sns

# Load data cleaned dari file Excel
df = pd.read_excel("./data/Online_Retail.xlsx")

# Produk Terlaris
top_products = df.groupby("Description")["Quantity"].sum().sort_values(ascending=False).head(10)

plt.figure(figsize=(10, 5))
sns.barplot(x=top_products.values, y=top_products.index, palette="Blues_r")
plt.title("Top 10 Produk Terlaris")
plt.xlabel("Jumlah Terjual")
plt.ylabel("Produk")
plt.tight_layout()
plt.show()

# Waktu Puncak Penjualan
df["Hour"] = pd.to_datetime(df["InvoiceDate"]).dt.hour
hourly = df["Hour"].value_counts().sort_index()

plt.figure(figsize=(10, 5))
sns.lineplot(x=hourly.index, y=hourly.values, marker="o")
plt.title("Jumlah Transaksi per Jam")
plt.xlabel("Jam")
plt.ylabel("Jumlah Transaksi")
plt.grid(True)
plt.tight_layout()
plt.show()
